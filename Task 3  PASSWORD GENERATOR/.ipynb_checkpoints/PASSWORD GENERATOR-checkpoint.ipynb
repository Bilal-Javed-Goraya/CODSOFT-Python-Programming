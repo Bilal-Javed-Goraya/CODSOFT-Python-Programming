{
 "cells": [
  {
   "cell_type": "code",
   "execution_count": 1,
   "id": "55af06dc",
   "metadata": {},
   "outputs": [
    {
     "ename": "ModuleNotFoundError",
     "evalue": "No module named 'pyperclip'",
     "output_type": "error",
     "traceback": [
      "\u001b[1;31m---------------------------------------------------------------------------\u001b[0m",
      "\u001b[1;31mModuleNotFoundError\u001b[0m                       Traceback (most recent call last)",
      "Cell \u001b[1;32mIn[1], line 2\u001b[0m\n\u001b[0;32m      1\u001b[0m \u001b[38;5;28;01mimport\u001b[39;00m \u001b[38;5;21;01mrandom\u001b[39;00m\n\u001b[1;32m----> 2\u001b[0m \u001b[38;5;28;01mimport\u001b[39;00m \u001b[38;5;21;01mpyperclip\u001b[39;00m\n\u001b[0;32m      3\u001b[0m \u001b[38;5;28;01mfrom\u001b[39;00m \u001b[38;5;21;01mtkinter\u001b[39;00m \u001b[38;5;28;01mimport\u001b[39;00m \u001b[38;5;241m*\u001b[39m\n\u001b[0;32m      4\u001b[0m \u001b[38;5;28;01mfrom\u001b[39;00m \u001b[38;5;21;01mtkinter\u001b[39;00m\u001b[38;5;21;01m.\u001b[39;00m\u001b[38;5;21;01mttk\u001b[39;00m \u001b[38;5;28;01mimport\u001b[39;00m \u001b[38;5;241m*\u001b[39m\n",
      "\u001b[1;31mModuleNotFoundError\u001b[0m: No module named 'pyperclip'"
     ]
    }
   ],
   "source": [
    "import random\n",
    "import pyperclip\n",
    "from tkinter import *\n",
    "from tkinter.ttk import *\n",
    "\n",
    "\n",
    "# Function for calculation of password\n",
    "\n",
    "\n",
    "def low():\n",
    "    entry.delete(0, END)\n",
    "\n",
    "    # Get the length of password\n",
    "    length = var1.get()\n",
    "\n",
    "    lower = \"abcdefghijklmnopqrstuvwxyz\"\n",
    "    upper = \"ABCDEFGHIJKLMNOPQRSTUVWXYZabcdefghijklmnopqrstuvwxyz\"\n",
    "    digits = \"ABCDEFGHIJKLMNOPQRSTUVWXYZabcdefghijklmnopqrstuvwxyz0123456789 !@#$%^&*()\"\n",
    "    password = \"\"\n",
    "\n",
    "    # if strength selected is low\n",
    "    if var.get() == 1:\n",
    "        for i in range(0, length):\n",
    "            password = password + random.choice(lower)\n",
    "        return password\n",
    "\n",
    "    # if strength selected is medium\n",
    "    elif var.get() == 0:\n",
    "        for i in range(0, length):\n",
    "            password = password + random.choice(upper)\n",
    "        return password\n",
    "\n",
    "    # if strength selected is strong\n",
    "    elif var.get() == 3:\n",
    "        for i in range(0, length):\n",
    "            password = password + random.choice(digits)\n",
    "        return password\n",
    "    else:\n",
    "        print(\"Please choose an option\")\n",
    "\n",
    "\n",
    "# Function for generation of password\n",
    "def generate():\n",
    "    password1 = low()\n",
    "    entry.insert(10, password1)\n",
    "\n",
    "\n",
    "# Function for copying password to clipboard\n",
    "def copy1():\n",
    "    random_password = entry.get()\n",
    "    pyperclip.copy(random_password)\n",
    "\n",
    "\n",
    "# Main Function\n",
    "\n",
    "# create GUI window\n",
    "root = Tk()\n",
    "var = IntVar()\n",
    "var1 = IntVar()\n",
    "\n",
    "\n",
    "root.title(\"Random Password Generator\")\n",
    "\n",
    "Random_password = Label(root, text=\"Password\")\n",
    "Random_password.grid(row=0)\n",
    "entry = Entry(root)\n",
    "entry.grid(row=0, column=1)\n",
    "c_label = Label(root, text=\"Length\")\n",
    "c_label.grid(row=1)\n",
    "\n",
    "copy_button = Button(root, text=\"Copy\", command=copy1)\n",
    "copy_button.grid(row=0, column=2)\n",
    "generate_button = Button(root, text=\"Generate\", command=generate)\n",
    "generate_button.grid(row=0, column=3)\n",
    "radio_low = Radiobutton(root, text=\"Low\", variable=var, value=1)\n",
    "radio_low.grid(row=1, column=2, sticky='E')\n",
    "radio_middle = Radiobutton(root, text=\"Medium\", variable=var, value=0)\n",
    "\n",
    "radio_middle.grid(row=1, column=3, sticky='E')\n",
    "radio_strong = Radiobutton(root, text=\"Strong\", variable=var, value=3)\n",
    "radio_strong.grid(row=1, column=4, sticky='E')\n",
    "combo = Combobox(root, textvariable=var1)\n",
    "\n",
    "combo['values'] = (1, 2, 3, 4, 5, 6, 7, 8, 9, 10, 11, 12, 13, 14, 15, 16,\n",
    "                   17, 18, 19, 20, 21, 22, 23, 24, 25,\n",
    "                   26, 27, 28, 29, 30, 31, 32, \"PYANDREI\")\n",
    "\n",
    "\n",
    "combo.current(0)\n",
    "combo.bind('<<ComboboxSelected>>')\n",
    "combo.grid(column=1, row=1)\n",
    "\n",
    "root.mainloop()"
   ]
  },
  {
   "cell_type": "code",
   "execution_count": 2,
   "id": "fcf3305d",
   "metadata": {},
   "outputs": [
    {
     "name": "stdout",
     "output_type": "stream",
     "text": [
      "Defaulting to user installation because normal site-packages is not writeable\n",
      "Note: you may need to restart the kernel to use updated packages.\n"
     ]
    },
    {
     "name": "stderr",
     "output_type": "stream",
     "text": [
      "WARNING: Ignoring invalid distribution -ensorflow-gpu (c:\\users\\user\\appdata\\roaming\\python\\python310\\site-packages)\n",
      "WARNING: Ignoring invalid distribution -pencv-python (c:\\users\\user\\appdata\\roaming\\python\\python310\\site-packages)\n",
      "WARNING: Retrying (Retry(total=4, connect=None, read=None, redirect=None, status=None)) after connection broken by 'NewConnectionError('<pip._vendor.urllib3.connection.HTTPSConnection object at 0x0000026143DB5990>: Failed to establish a new connection: [Errno 11001] getaddrinfo failed')': /simple/pyperclip/\n",
      "WARNING: Retrying (Retry(total=3, connect=None, read=None, redirect=None, status=None)) after connection broken by 'NewConnectionError('<pip._vendor.urllib3.connection.HTTPSConnection object at 0x0000026143DB5C60>: Failed to establish a new connection: [Errno 11001] getaddrinfo failed')': /simple/pyperclip/\n",
      "WARNING: Retrying (Retry(total=2, connect=None, read=None, redirect=None, status=None)) after connection broken by 'NewConnectionError('<pip._vendor.urllib3.connection.HTTPSConnection object at 0x0000026143DB5E10>: Failed to establish a new connection: [Errno 11001] getaddrinfo failed')': /simple/pyperclip/\n",
      "WARNING: Retrying (Retry(total=1, connect=None, read=None, redirect=None, status=None)) after connection broken by 'NewConnectionError('<pip._vendor.urllib3.connection.HTTPSConnection object at 0x0000026143DB5FC0>: Failed to establish a new connection: [Errno 11001] getaddrinfo failed')': /simple/pyperclip/\n",
      "WARNING: Retrying (Retry(total=0, connect=None, read=None, redirect=None, status=None)) after connection broken by 'NewConnectionError('<pip._vendor.urllib3.connection.HTTPSConnection object at 0x0000026143DB6170>: Failed to establish a new connection: [Errno 11001] getaddrinfo failed')': /simple/pyperclip/\n",
      "ERROR: Could not find a version that satisfies the requirement pyperclip (from versions: none)\n",
      "ERROR: No matching distribution found for pyperclip\n"
     ]
    }
   ],
   "source": [
    "pip install pyperclip"
   ]
  },
  {
   "cell_type": "code",
   "execution_count": null,
   "id": "4ddd2282",
   "metadata": {},
   "outputs": [],
   "source": []
  }
 ],
 "metadata": {
  "kernelspec": {
   "display_name": "Python 3 (ipykernel)",
   "language": "python",
   "name": "python3"
  },
  "language_info": {
   "codemirror_mode": {
    "name": "ipython",
    "version": 3
   },
   "file_extension": ".py",
   "mimetype": "text/x-python",
   "name": "python",
   "nbconvert_exporter": "python",
   "pygments_lexer": "ipython3",
   "version": "3.10.9"
  }
 },
 "nbformat": 4,
 "nbformat_minor": 5
}
